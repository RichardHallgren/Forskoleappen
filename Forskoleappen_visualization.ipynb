{
 "cells": [
  {
   "cell_type": "markdown",
   "metadata": {},
   "source": [
    "### Visualization for Förskoleappen\n",
    "\n",
    "This program visualize the actual attendance vs the planned attendance on several preschools (anonymized) in the Stockholm area. "
   ]
  },
  {
   "cell_type": "code",
   "execution_count": 10,
   "metadata": {},
   "outputs": [
    {
     "name": "stdout",
     "output_type": "stream",
     "text": [
      "Which day do you wish to plot? (example: All or Monday etc) All\n",
      "Which school number do you wish to plot? (Example: 159 163 317) 159 163\n"
     ]
    },
    {
     "data": {
      "image/png": "[encoded data removed]",
      "text/plain": [
       "<matplotlib.figure.Figure at 0x7f0941ace320>"
      ]
     },
     "metadata": {},
     "output_type": "display_data"
    }
   ],
   "source": [
    "import pandas as pd\n",
    "import numpy as np\n",
    "import scipy as scipy\n",
    "import datetime as dt\n",
    "from collections import Counter\n",
    "import matplotlib.pyplot as plt\n",
    "\n",
    "\n",
    "df159 = pd.read_excel('$$Visualization rapport_159_2019-10-19.xls', header=1, usecols=[0,1,2,3,5,6,7,8,9,10])\n",
    "df163 = pd.read_excel('$$Visualization rapport_163_2019-10-19.xls', header=1, usecols=[0,1,2,3,5,6,7,8,9,10])\n",
    "df317 = pd.read_excel('$$Visualization rapport_317_2019-10-19.xls', header=1, usecols=[0,1,2,3,5,6,7,8,9,10])\n",
    "df320 = pd.read_excel('$$Visualization rapport_320_2019-10-19.xls', header=1, usecols=[0,1,2,3,5,6,7,8,9,10])\n",
    "df325 = pd.read_excel('$$Visualization rapport_325_2019-10-19.xls', header=1, usecols=[0,1,2,3,5,6,7,8,9,10])\n",
    "df350 = pd.read_excel('$$Visualization rapport_350_2019-10-19.xls', header=1, usecols=[0,1,2,3,5,6,7,8,9,10])\n",
    "df378 = pd.read_excel('$$Visualization rapport_378_2019-10-19.xls', header=1, usecols=[0,1,2,3,5,6,7,8,9,10])\n",
    "\n",
    "frames = [df159, df163, df317, df320, df325, df350, df378]\n",
    "\n",
    "df = pd.concat(frames)\n",
    "\n",
    "df.columns = df.columns.str.replace(\"[$$]\", \"\")\n",
    "\n",
    "#freebutcheckindf = df[(df['Check-in'] != '-') & (df['FreeTime'] == 1)] #Planned free but check in anyway\n",
    "\n",
    "df['Weekday'] = df['Date'].dt.weekday_name\n",
    "\n",
    "dois = input('Which day do you wish to plot? (example: All or Monday etc) ')\n",
    "soi = [int(x) for x in input('Which school number do you wish to plot? (Example: 159 163 317) ').split()]\n",
    "\n",
    "\n",
    "if dois == 'All':\n",
    "    doi = ['Monday', 'Tuesday', 'Wednesday', 'Thursday', 'Friday']\n",
    "else:\n",
    "    doi = [dois]\n",
    "\n",
    "\n",
    "fdf = df[(df['Check-in'] != '-') & (df['FreeTime'] == 0) & (df['Schedule-in'] != '-') & (df['Schedule-out'] != '-') & (df['Check-out'] != '-') & (df['Weekday'].isin(doi)) & (df['SchoolId'].isin(soi))].copy()\n",
    "\n",
    "fdf['Check-in'] = pd.to_datetime(fdf['Date'].astype(str) + ' ' +fdf['Check-in'].astype(str))\n",
    "fdf['Check-out'] = pd.to_datetime(fdf['Date'].astype(str) + ' ' +fdf['Check-out'].astype(str))\n",
    "fdf['Schedule-in'] = pd.to_datetime(fdf['Date'].astype(str) + ' ' +fdf['Schedule-in'].astype(str))\n",
    "fdf['Schedule-out'] = pd.to_datetime(fdf['Date'].astype(str) + ' ' +fdf['Schedule-out'].astype(str))\n",
    "\n",
    "\n",
    "fdf['actual'] = fdf['Check-out'] - fdf['Check-in']\n",
    "fdf['planned'] = fdf['Schedule-out'] - fdf['Schedule-in']\n",
    "\n",
    "tphours = []\n",
    "tchours = []\n",
    "for index, row in fdf.iterrows():\n",
    "    chours = pd.PeriodIndex(start = row['Check-in'], end = row['Check-out'], freq='H').hour.tolist()\n",
    "    tchours.append(chours)\n",
    "    phours = pd.PeriodIndex(start = row['Schedule-in'], end = row['Schedule-out'], freq='H').hour.tolist()\n",
    "    tphours.append(phours)\n",
    "\n",
    "flat_list = []\n",
    "for sublist in tchours:\n",
    "    for item in sublist:\n",
    "        flat_list.append(item)\n",
    "        \n",
    "checkcount=sorted(Counter(flat_list).items())\n",
    "\n",
    "flat_list_2 = []\n",
    "for sublist in tphours:\n",
    "    for item in sublist:\n",
    "        flat_list_2.append(item)\n",
    "\n",
    "plancount=sorted(Counter(flat_list_2).items())\n",
    "\n",
    "\n",
    "act_df = fdf['actual'].mean()\n",
    "pla_df = fdf['planned'].mean()\n",
    "\n",
    "act = fdf.groupby(['Weekday'])[['actual']].sum()\n",
    "pla = fdf.groupby(['Weekday'])[['planned']].sum()\n",
    "\n",
    "\n",
    "#print(act)\n",
    "#print(pla)\n",
    "\n",
    "fig = plt.figure(figsize=(20,10))\n",
    "ax = fig.gca()\n",
    "\n",
    "ah, noc = zip(*checkcount) # unpack a list of pairs into two tuples\n",
    "ph, nop = zip(*plancount)\n",
    "\n",
    "width = np.min(np.diff(ah))/3\n",
    "\n",
    "doias = ' '.join(doi)\n",
    "soias = ', '.join([str(i) for i in soi])\n",
    "\n",
    "\n",
    "\n",
    "plt.bar(ah-width, noc, width = 0.3)\n",
    "plt.bar(ph, nop, width = 0.3)\n",
    "ax.set_title('Actual hours (blue) vs planned hours (orange) on {}s at School ID {}'.format(doias, soias))\n",
    "plt.xlabel('Time of day')\n",
    "plt.ylabel('Cumulated hours')\n",
    "\n",
    "ax.spines['top'].set_visible(False)\n",
    "ax.spines['right'].set_visible(False)\n",
    "\n",
    "\n",
    "plt.savefig('attendanceALL.png', dpi=125, bbox_inches='tight')\n",
    "\n",
    "\n",
    "\n",
    "plt.show()\n",
    "\n",
    "\n",
    "\n"
   ]
  },
  {
   "cell_type": "code",
   "execution_count": null,
   "metadata": {},
   "outputs": [],
   "source": []
  },
  {
   "cell_type": "code",
   "execution_count": null,
   "metadata": {},
   "outputs": [],
   "source": []
  },
  {
   "cell_type": "code",
   "execution_count": null,
   "metadata": {
    "collapsed": true
   },
   "outputs": [],
   "source": []
  },
  {
   "cell_type": "code",
   "execution_count": null,
   "metadata": {
    "collapsed": true
   },
   "outputs": [],
   "source": []
  }
 ],
 "metadata": {
  "kernelspec": {
   "display_name": "Python 3",
   "language": "python",
   "name": "python3"
  },
  "language_info": {
   "codemirror_mode": {
    "name": "ipython",
    "version": 3
   },
   "file_extension": ".py",
   "mimetype": "text/x-python",
   "name": "python",
   "nbconvert_exporter": "python",
   "pygments_lexer": "ipython3",
   "version": "3.7.3"
  }
 },
 "nbformat": 4,
 "nbformat_minor": 1
}
